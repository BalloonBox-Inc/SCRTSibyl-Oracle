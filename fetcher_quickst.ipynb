{
 "cells": [
  {
   "cell_type": "markdown",
   "id": "1a5f9312",
   "metadata": {},
   "source": [
    "<< Build helper functions to retrieve user's transactions info from Plaid data >>"
   ]
  },
  {
   "cell_type": "code",
   "execution_count": null,
   "id": "b9fc5ba6",
   "metadata": {},
   "outputs": [],
   "source": [
    "# # Import libraries\n",
    "# import json\n",
    "# import requests\n",
    "# import pandas as pd\n",
    "# from dotenv import load_dotenv\n",
    "# from datetime import datetime\n",
    "# from datetime import timedelta\n",
    "# import plaid\n",
    "# from plaid.api import plaid_api\n",
    "# from plaid.model.identity_get_request import IdentityGetRequest\n",
    "# from plaid.model.transactions_get_request import TransactionsGetRequest\n",
    "# from plaid.model.transactions_get_request_options import TransactionsGetRequestOptions\n",
    "# from plaid.model.investments_holdings_get_request import InvestmentsHoldingsGetRequest\n",
    "# from plaid.model.investments_transactions_get_request import InvestmentsTransactionsGetRequest\n",
    "# from plaid.model.investments_transactions_get_request_options import InvestmentsTransactionsGetRequestOptions\n"
   ]
  },
  {
   "cell_type": "code",
   "execution_count": null,
   "id": "f8eabc1f",
   "metadata": {},
   "outputs": [],
   "source": [
    "# # Borrow and customize Plaid Quickstart functions fopr fetching data\n",
    "# host = plaid.Environment.Sandbox\n",
    "# load_dotenv()\n",
    "# PLAID_CLIENT_ID = os.getenv('CLIENT_ID')\n",
    "# PLAID_SECRET = os.getenv('SECRET_KEY')\n",
    "# access_token= os.getenv('ACCESS_TOKEN')\n",
    "\n",
    "\n",
    "# configuration = plaid.Configuration(\n",
    "#     host=host,\n",
    "#     api_key={\n",
    "#         'clientId': PLAID_CLIENT_ID,\n",
    "#         'secret': PLAID_SECRET,\n",
    "#         'plaidVersion': '2020-09-14'\n",
    "#     }\n",
    "# )\n",
    "\n",
    "# api_client = plaid.ApiClient(configuration)\n",
    "# client = plaid_api.PlaidApi(api_client)\n",
    "\n",
    "\n",
    "\n",
    "# # Retrieve Transactions for an Item\n",
    "# def get_transactions():\n",
    "#     # Pull transactions for the last 30 days\n",
    "#     start_date = (datetime.now() - timedelta(days=30))\n",
    "#     end_date = datetime.now()\n",
    "#     try:\n",
    "#         options = TransactionsGetRequestOptions()\n",
    "#         request = TransactionsGetRequest(\n",
    "#             access_token=access_token,\n",
    "#             start_date=start_date.date(),\n",
    "#             end_date=end_date.date(),\n",
    "#             options=options\n",
    "#         )\n",
    "#         response = client.transactions_get(request)\n",
    "#         return response.to_dict()\n",
    "#     except plaid.ApiException as e:\n",
    "#         return \"Error: product->Transactions\"\n",
    "\n",
    "\n",
    "\n",
    "# # Retrieve Identity data for an Item\n",
    "# def get_identity():\n",
    "#     try:\n",
    "#         request = IdentityGetRequest(\n",
    "#             access_token=access_token\n",
    "#         )\n",
    "#         response = client.identity_get(request)\n",
    "#         return response.to_dict()['accounts'] #export only the values under the kye 'accounts'\n",
    "#     except plaid.ApiException as e:\n",
    "#         return \"Error product->Identity\"\n",
    "\n",
    "\n",
    "\n",
    "# # Retrieve Investment Holdings data for an Item\n",
    "# def get_holdings():\n",
    "#     try:\n",
    "#         request = InvestmentsHoldingsGetRequest(access_token=access_token)\n",
    "#         response = client.investments_holdings_get(request)\n",
    "#         return response.to_dict()\n",
    "#     except plaid.ApiException as e:\n",
    "#         return \"Error product->Investment holdings\"\n",
    "\n",
    "\n",
    "\n",
    "# # Retrieve Investment Transactions for an Item\n",
    "# def get_investment_transactions():\n",
    "#     # Pull transactions for the last 30 days\n",
    "#     start_date = (datetime.now() - timedelta(days=(30)))\n",
    "#     end_date = datetime.now()\n",
    "#     try:\n",
    "#         options = InvestmentsTransactionsGetRequestOptions()\n",
    "#         request = InvestmentsTransactionsGetRequest(\n",
    "#             access_token=access_token,\n",
    "#             start_date=start_date.date(),\n",
    "#             end_date=end_date.date(),\n",
    "#             options=options\n",
    "#         )\n",
    "#         response = client.investments_transactions_get(request) #amend spelling mistake in Plaid docuemntation 'investmentS_tran...' rather than 'investment_tran...'\n",
    "#         return response.to_dict()\n",
    "\n",
    "#     except plaid.ApiException as e:\n",
    "#         return \"Error product->Investment txn\""
   ]
  },
  {
   "cell_type": "markdown",
   "id": "acf25df9",
   "metadata": {},
   "source": [
    "### Fetch Plaid Data \n",
    "Using Quickstart functions"
   ]
  },
  {
   "cell_type": "code",
   "execution_count": 1,
   "id": "3ce1bb7a",
   "metadata": {},
   "outputs": [],
   "source": [
    "# it's already happening on app_route\n",
    "from support_plaid import *\n",
    "from dotenv import load_dotenv\n",
    "from os import getenv\n",
    "load_dotenv()\n",
    "plaid_token = getenv('PLAID_ACCESS_TOKEN')\n",
    "client = plaid_client('sandbox', getenv('PLAID_CLIENT_ID'), getenv('PLAID_SECRET'))\n"
   ]
  },
  {
   "cell_type": "code",
   "execution_count": 2,
   "id": "39a2b188",
   "metadata": {},
   "outputs": [],
   "source": [
    "# Fetch data from Plaid using Plaid Quickstart functions \n",
    "# Run functions\n",
    "trs = plaid_transactions(plaid_token, client, 30)['accounts']  #transactions\n",
    "iden = plaid_identity(plaid_token, client)['accounts'] #identity\n",
    "holds = plaid_holdings(plaid_token, client)['accounts']  #investments:holdings\n",
    "invtxn = plaid_investment_transactions(plaid_token, client, 30) #investments:transactions"
   ]
  },
  {
   "cell_type": "markdown",
   "id": "e5025c0e",
   "metadata": {},
   "source": [
    "### Metric #1: Transactions count and volume"
   ]
  },
  {
   "cell_type": "code",
   "execution_count": null,
   "id": "d4832a5a",
   "metadata": {},
   "outputs": [],
   "source": [
    "### Metric #1: Transactions count and volume\n",
    "def txn(data):\n",
    "    \"\"\"\n",
    "    Calculate tot txn count & tot txn volume\n",
    "    \n",
    "    Args:\n",
    "        transaction data as a dict\n",
    "        \n",
    "    Returns:\n",
    "        a tuple containing the cumulative number of transactions and the tot of inflow-outflow of transactions\n",
    "    \"\"\"\n",
    "    try:\n",
    "        cnt = data['total_transactions']\n",
    "        date = []\n",
    "        volume = []\n",
    "        for i in range(len(data['transactions'])):\n",
    "            txn = data['transactions'][i]\n",
    "            v = txn['amount']\n",
    "            volume.append(v)\n",
    "        return (cnt, sum(volume))\n",
    "        \n",
    "    except Exception as e:\n",
    "        return \"Error\""
   ]
  },
  {
   "cell_type": "code",
   "execution_count": null,
   "id": "5af932a2",
   "metadata": {},
   "outputs": [],
   "source": [
    "txn(trs)"
   ]
  },
  {
   "cell_type": "code",
   "execution_count": null,
   "id": "6b990dda",
   "metadata": {},
   "outputs": [],
   "source": [
    "def net_monthly(data):\n",
    "    \"\"\"\n",
    "    What is the net monthly inflow across all accounts for a given user?\n",
    "    This function outputs the monthly net flow of money in/out the user's bank accounts\n",
    "     \n",
    "    Args:\n",
    "        transaction data as a dict\n",
    "    \n",
    "    Returns:\n",
    "        list of list of dates and net monthly flow\n",
    "    \"\"\"\n",
    "    try:\n",
    "        date = []\n",
    "        amount = []\n",
    "        for i in range(len(data['transactions'])):\n",
    "            txn = data['transactions'][i]\n",
    "            date.append(txn['date'])\n",
    "            amount.append(txn['amount'])\n",
    "\n",
    "        df0 = pd.DataFrame(data={'amount': amount}, index=pd.DatetimeIndex(pd.to_datetime(date)))\n",
    "        df1 = df0.groupby(pd.Grouper(freq='M', how='start')).sum()\n",
    "\n",
    "        net_pair = []\n",
    "        for i in range(len(df1)):\n",
    "            dt = df1.index.to_list()[i].isoformat().split(\"T\")[0]\n",
    "            am = df1['amount'].to_list()[i]\n",
    "            net_pair.append([dt,am])\n",
    "        return net_pair\n",
    "    except Exception as e:\n",
    "        return \"Error\""
   ]
  },
  {
   "cell_type": "code",
   "execution_count": null,
   "id": "f9af23ac",
   "metadata": {},
   "outputs": [],
   "source": [
    "net_monthly(trs)"
   ]
  },
  {
   "cell_type": "markdown",
   "id": "99d482e6",
   "metadata": {},
   "source": [
    "### Metric #2: Length of credit history"
   ]
  },
  {
   "cell_type": "markdown",
   "id": "15ea0e0f",
   "metadata": {},
   "source": [
    "### Metric #3: Avg age of borrower's credit accounts"
   ]
  },
  {
   "cell_type": "markdown",
   "id": "6bd5bc4b",
   "metadata": {},
   "source": [
    "### Metric #4: Composition or mix of borrower's accounts"
   ]
  },
  {
   "cell_type": "code",
   "execution_count": null,
   "id": "d4e14d2e",
   "metadata": {},
   "outputs": [],
   "source": [
    "def acc_mix(data):\n",
    "    \"\"\"\n",
    "    returns composition and status of user's accounts\n",
    "    \n",
    "    Agrs:\n",
    "        data as dict\n",
    "    \n",
    "    Returns:\n",
    "        number of accounts, account types, balances, and currencies as a list of lists\n",
    "    \"\"\"\n",
    "    try: \n",
    "        types = []\n",
    "        balances = []\n",
    "        currency = []\n",
    "\n",
    "        account = data[\"accounts\"]\n",
    "        for i in range(len(account)):\n",
    "            t = str(account[i]['type']) + \"_\" + str(account[i]['subtype'])\n",
    "            b = account[i]['balances']['current']\n",
    "            c = account[i]['balances']['iso_currency_code'] \n",
    "            types.append(t)\n",
    "            balances.append(b)\n",
    "            currency.append(c)\n",
    "            acc_mix = [len(types), types, balances, currency]\n",
    "        return acc_mix\n",
    "\n",
    "    except Exception as e:\n",
    "        return \"Error\"\n",
    "    \n"
   ]
  },
  {
   "cell_type": "code",
   "execution_count": null,
   "id": "6e8cf53a",
   "metadata": {},
   "outputs": [],
   "source": [
    "acc_mix(trs)"
   ]
  },
  {
   "cell_type": "markdown",
   "id": "b64c5b7e",
   "metadata": {},
   "source": [
    "### Metric #5: Credit Utilization Ratio"
   ]
  },
  {
   "cell_type": "code",
   "execution_count": null,
   "id": "0caf6f8c",
   "metadata": {},
   "outputs": [],
   "source": [
    "def keep_credit(data):\n",
    "    \"\"\"\n",
    "    Returns index of the user's credit accounts\n",
    "    \n",
    "    Args:\n",
    "        transaction data as dict\n",
    "    \n",
    "    Return:\n",
    "        list of indeces of all credit accounts \n",
    "    \"\"\"\n",
    "    credit_account = []\n",
    "    try: \n",
    "        types = []\n",
    "\n",
    "        account = data[\"accounts\"]\n",
    "        for i in range(len(account)):\n",
    "            t = str(account[i]['type']) + \"_\" + str(account[i]['subtype'])\n",
    "            if t in ['credit_credit card', 'depository_cd']:\n",
    "                types.append(t)\n",
    "                credit_account.append(i)\n",
    "        return credit_account\n",
    "    except Exception as e:\n",
    "        return \"Error\""
   ]
  },
  {
   "cell_type": "code",
   "execution_count": null,
   "id": "0cd3a5cd",
   "metadata": {},
   "outputs": [],
   "source": [
    "def credit_util_ratio(data):\n",
    "    \"\"\"\n",
    "    Returns the credit utilization ratio = credit used/credit available\n",
    "    \n",
    "    Args:\n",
    "    transaction datat as dict\n",
    "    \n",
    "    Returns:\n",
    "    ratio as a float\n",
    "    \"\"\"\n",
    "    try:\n",
    "        tot_credit = []\n",
    "        used_credit = []\n",
    "        types = []\n",
    "\n",
    "        account = data[\"accounts\"]\n",
    "        c = keep_credit(data)\n",
    "\n",
    "        for i in c:\n",
    "            tot = account[i]['balances']['current']\n",
    "            t = str(account[i]['type']) + \"_\" + str(account[i]['subtype'])\n",
    "            if account[i]['balances']['available'] != None:\n",
    "                avail = account[i]['balances']['available']\n",
    "            else: \n",
    "                avail = 0\n",
    "            used = tot-avail\n",
    "            tot_credit.append(tot)\n",
    "            used_credit.append(used)\n",
    "            types.append(t)\n",
    "            r = sum(used_credit)/sum(tot_credit)\n",
    "        return r\n",
    "        \n",
    "    except Exception as e:\n",
    "        return \"Error\""
   ]
  },
  {
   "cell_type": "code",
   "execution_count": null,
   "id": "8a7e537f",
   "metadata": {
    "scrolled": true
   },
   "outputs": [],
   "source": [
    "credit_util_ratio(trs)"
   ]
  }
 ],
 "metadata": {
  "kernelspec": {
   "display_name": "Python 3 (ipykernel)",
   "language": "python",
   "name": "python3"
  },
  "language_info": {
   "codemirror_mode": {
    "name": "ipython",
    "version": 3
   },
   "file_extension": ".py",
   "mimetype": "text/x-python",
   "name": "python",
   "nbconvert_exporter": "python",
   "pygments_lexer": "ipython3",
   "version": "3.8.12"
  }
 },
 "nbformat": 4,
 "nbformat_minor": 5
}
