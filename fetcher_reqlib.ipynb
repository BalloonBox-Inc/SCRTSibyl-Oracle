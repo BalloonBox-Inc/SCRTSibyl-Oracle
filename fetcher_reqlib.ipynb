{
 "cells": [
  {
   "cell_type": "markdown",
   "id": "1a5f9312",
   "metadata": {},
   "source": [
    "<< Build helper functions to retrieve user's transactions info from Plaid data >>"
   ]
  },
  {
   "cell_type": "code",
   "execution_count": null,
   "id": "8349acdb",
   "metadata": {},
   "outputs": [],
   "source": [
    "# High-level overview of Mayllon's API interactions between Matteo and me.\n",
    "\n",
    "# @app.route('/account/transactions', methods=['POST'])\n",
    "# def model_A():\n",
    "\n",
    "#     token = requests.get('plaid_token', None)\n",
    "\n",
    "\n",
    "#     txn = plaid_transactions()\n",
    "#     bal = plaid_balance()\n",
    "#     inv = plaid_inv()\n",
    "\n",
    "#     if ():\n",
    "#         output = model_A(txn, bal, inv)\n",
    "\n",
    "#         return make_response(output)"
   ]
  },
  {
   "cell_type": "code",
   "execution_count": null,
   "id": "b9fc5ba6",
   "metadata": {},
   "outputs": [],
   "source": [
    "# Import libraries\n",
    "import json\n",
    "import requests\n",
    "import pandas as pd\n",
    "from datetime import datetime\n",
    "from datetime import timedelta\n",
    "from dotenv import load_dotenv\n"
   ]
  },
  {
   "cell_type": "markdown",
   "id": "97f378d6",
   "metadata": {},
   "source": [
    "### Plaid PRODUCTS:\n",
    "Transactions, Auth, Balance, Identity, Investment"
   ]
  },
  {
   "cell_type": "code",
   "execution_count": null,
   "id": "a1101b57",
   "metadata": {},
   "outputs": [],
   "source": [
    "# Import environment variables\n",
    "\n",
    "load_dotenv()\n",
    "PLAID_CLIENT_ID = os.getenv('CLIENT_ID')\n",
    "PLAID_SECRET = os.getenv('SECRET_KEY')\n",
    "access_token= os.getenv('ACCESS_TOKEN')"
   ]
  },
  {
   "cell_type": "code",
   "execution_count": null,
   "id": "ab96d7ba",
   "metadata": {},
   "outputs": [],
   "source": [
    "# Fetch Sandbox data from Plaid using 'request' library\n",
    "\n",
    "url1 = \"https://sandbox.plaid.com/transactions/get\"\n",
    "url2 = \"https://sandbox.plaid.com/auth/get\"\n",
    "url3 = \"https://sandbox.plaid.com/accounts/balance/get\"\n",
    "url4 = \"https://sandbox.plaid.com/identity/get\"\n",
    "url5 = \"https://sandbox.plaid.com/investments/holdings/get\"\n",
    "\n",
    "\n",
    "payload1 = {\n",
    "          \"client_id\": PLAID_CLIENT_ID,\n",
    "          \"secret\": PLAID_SECRET, \n",
    "          \"access_token\": access_token,\n",
    "          \"start_date\": (datetime.now() - timedelta(days=30)).date().strftime(\"%Y-%m-%d\"),\n",
    "          \"end_date\": datetime.now().date().strftime(\"%Y-%m-%d\")\n",
    "           }\n",
    "\n",
    "payload2 = {\n",
    "          \"client_id\": PLAID_CLIENT_ID,\n",
    "          \"secret\": PLAID_SECRET, \n",
    "          \"access_token\": access_token,\n",
    "           }\n",
    "\n",
    "headers = { \"Content-Type\": \"application/json\"}\n",
    "\n",
    "\n",
    "txn = requests.post(url=url1, data=json.dumps(payload1),headers=headers).json()\n",
    "auth = requests.post(url=url2, data=json.dumps(payload2),headers=headers).json()\n",
    "balance = requests.post(url=url3, data=json.dumps(payload2),headers=headers).json()\n",
    "id = requests.post(url=url4, data=json.dumps(payload2),headers=headers).json()\n",
    "investment = requests.post(url=url5, data=json.dumps(payload2),headers=headers).json()\n"
   ]
  },
  {
   "cell_type": "code",
   "execution_count": null,
   "id": "d59de780",
   "metadata": {},
   "outputs": [],
   "source": [
    "a = 'accounts'\n",
    "b = 'item'\n",
    "\n",
    "print(auth[a]==txn[a], balance[b]==id[b]==investment[b])"
   ]
  },
  {
   "cell_type": "markdown",
   "id": "e5025c0e",
   "metadata": {},
   "source": [
    "### Metric #1: Transactions count and volume"
   ]
  },
  {
   "cell_type": "code",
   "execution_count": null,
   "id": "d4832a5a",
   "metadata": {},
   "outputs": [],
   "source": [
    "### Metric #1: Transactions count and volume\n",
    "def txn(data):\n",
    "    \"\"\"\n",
    "    Calculate tot txn count & tot txn volume\n",
    "    \n",
    "    Args:\n",
    "        transaction data as a dict\n",
    "        \n",
    "    Returns:\n",
    "        a tuple containing the cumulative number of transactions and the tot of inflow-outflow of transactions\n",
    "    \"\"\"\n",
    "    try:\n",
    "        cnt = data['total_transactions']\n",
    "        date = []\n",
    "        volume = []\n",
    "        for i in range(len(data['transactions'])):\n",
    "            txn = data['transactions'][i]\n",
    "            v = txn['amount']\n",
    "            volume.append(v)\n",
    "        return (cnt, sum(volume))\n",
    "        \n",
    "    except Exception as e:\n",
    "        pass\n",
    "\n",
    "\n",
    "\n",
    "def net_monthly(data):\n",
    "    \"\"\"\n",
    "    What is the net monthly inflow across all accounts for a given user?\n",
    "    This function outputs the monthly net flow of money in/out the user's bank accounts\n",
    "     \n",
    "    Args:\n",
    "        transaction data as a dict\n",
    "    \n",
    "    Returns:\n",
    "        list of list of dates and net monthly flow\n",
    "    \"\"\"\n",
    "    try:\n",
    "        date = []\n",
    "        amount = []\n",
    "        for i in range(len(data['transactions'])):\n",
    "            txn = data['transactions'][i]\n",
    "            date.append(datetime.strptime(txn['date'], '%Y-%m-%d').date())\n",
    "            amount.append(txn['amount'])\n",
    "\n",
    "        df0 = pd.DataFrame(data={'amount': amount}, index=pd.DatetimeIndex(pd.to_datetime(date)))\n",
    "        df1 = df0.groupby(pd.Grouper(freq='M', how='start')).sum()\n",
    "\n",
    "        net_pair = []\n",
    "        for i in range(len(df1)):\n",
    "            dt = df1.index.to_list()[i].isoformat().split(\"T\")[0]\n",
    "            am = df1['amount'].to_list()[i]\n",
    "            net_pair.append([dt,am])\n",
    "        return net_pair\n",
    "    except Exception as e:\n",
    "        pass"
   ]
  },
  {
   "cell_type": "markdown",
   "id": "99d482e6",
   "metadata": {},
   "source": [
    "### Metric #2: Length of credit history"
   ]
  },
  {
   "cell_type": "markdown",
   "id": "15ea0e0f",
   "metadata": {},
   "source": [
    "### Metric #3: Avg age of borrower's credit accounts"
   ]
  },
  {
   "cell_type": "markdown",
   "id": "6bd5bc4b",
   "metadata": {},
   "source": [
    "### Metric #4: Composition or mix of borrower's accounts"
   ]
  },
  {
   "cell_type": "code",
   "execution_count": null,
   "id": "d4e14d2e",
   "metadata": {},
   "outputs": [],
   "source": [
    "def acc_mix(data):\n",
    "    \"\"\"\n",
    "    returns composition and status of user's accounts\n",
    "    \n",
    "    Agrs:\n",
    "        data as dict\n",
    "    \n",
    "    Returns:\n",
    "        number of accounts, account types, balances, and currencies as a list of lists\n",
    "    \"\"\"\n",
    "    try: \n",
    "        types = []\n",
    "        balances = []\n",
    "        currency = []\n",
    "\n",
    "        account = data[\"accounts\"]\n",
    "        for i in range(len(account)):\n",
    "            t = str(account[i]['type']) + \"_\" + str(account[i]['subtype'])\n",
    "            b = account[i]['balances']['current']\n",
    "            c = account[i]['balances']['iso_currency_code'] \n",
    "            types.append(t)\n",
    "            balances.append(b)\n",
    "            currency.append(c)\n",
    "            acc_mix = [len(types), types, balances, currency]\n",
    "        return acc_mix\n",
    "\n",
    "    except Exception as e:\n",
    "        pass\n",
    "    \n"
   ]
  },
  {
   "cell_type": "markdown",
   "id": "b64c5b7e",
   "metadata": {},
   "source": [
    "### Metric #5: Credit Utilization Ratio"
   ]
  },
  {
   "cell_type": "code",
   "execution_count": null,
   "id": "0caf6f8c",
   "metadata": {},
   "outputs": [],
   "source": [
    "def keep_credit(data):\n",
    "    \"\"\"\n",
    "    Returns index of the user's credit accounts\n",
    "    \n",
    "    Args:\n",
    "        transaction data as dict\n",
    "    \n",
    "    Return:\n",
    "        list of indeces of all credit accounts \n",
    "    \"\"\"\n",
    "    credit_account = []\n",
    "    try: \n",
    "        types = []\n",
    "\n",
    "        account = data[\"accounts\"]\n",
    "        for i in range(len(account)):\n",
    "            t = str(account[i]['type']) + \"_\" + str(account[i]['subtype'])\n",
    "            if t in ['credit_credit card', 'depository_cd']:\n",
    "                types.append(t)\n",
    "                credit_account.append(i)\n",
    "        return credit_account\n",
    "    except Exception as e:\n",
    "        pass\n",
    "\n",
    "\n",
    "def credit_util_ratio(data):\n",
    "    \"\"\"\n",
    "    Returns the credit utilization ratio = credit used/credit available\n",
    "    \n",
    "    Args:\n",
    "    transaction datat as dict\n",
    "    \n",
    "    Returns:\n",
    "    ratio as a float\n",
    "    \"\"\"\n",
    "    try:\n",
    "        tot_credit = []\n",
    "        used_credit = []\n",
    "        types = []\n",
    "\n",
    "        account = data[\"accounts\"]\n",
    "        c = keep_credit(data)\n",
    "\n",
    "        for i in c:\n",
    "            tot = account[i]['balances']['current']\n",
    "            t = str(account[i]['type']) + \"_\" + str(account[i]['subtype'])\n",
    "            if account[i]['balances']['available'] != None:\n",
    "                avail = account[i]['balances']['available']\n",
    "            else: \n",
    "                avail = 0\n",
    "            used = tot-avail\n",
    "            tot_credit.append(tot)\n",
    "            used_credit.append(used)\n",
    "            types.append(t)\n",
    "            r = sum(used_credit)/sum(tot_credit)\n",
    "        return r\n",
    "        \n",
    "    except Exception as e:\n",
    "        pass\n"
   ]
  },
  {
   "cell_type": "markdown",
   "id": "e18f8c37",
   "metadata": {},
   "source": [
    "### Run functions \n",
    "to extrapolate metrics"
   ]
  },
  {
   "cell_type": "code",
   "execution_count": null,
   "id": "8a7e537f",
   "metadata": {
    "scrolled": true
   },
   "outputs": [],
   "source": [
    "txn(txn)\n",
    "net_monthly(txn)\n",
    "acc_mix(txn)\n",
    "credit_util_ratio(txn)"
   ]
  }
 ],
 "metadata": {
  "kernelspec": {
   "display_name": "Python 3 (ipykernel)",
   "language": "python",
   "name": "python3"
  },
  "language_info": {
   "codemirror_mode": {
    "name": "ipython",
    "version": 3
   },
   "file_extension": ".py",
   "mimetype": "text/x-python",
   "name": "python",
   "nbconvert_exporter": "python",
   "pygments_lexer": "ipython3",
   "version": "3.8.12"
  }
 },
 "nbformat": 4,
 "nbformat_minor": 5
}
